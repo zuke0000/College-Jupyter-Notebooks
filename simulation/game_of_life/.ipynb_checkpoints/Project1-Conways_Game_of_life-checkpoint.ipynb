{
 "cells": [
  {
   "cell_type": "markdown",
   "id": "409f8432",
   "metadata": {},
   "source": [
    "# Group project 1 - Conway's Game of Life\n",
    "## Due January 24th, 10:30 AM\n",
    "\n",
    "Conway's Game of Life is a \"no-player never-ending game\" played on board of squares.  It was invented by [John Conway](https://www.theguardian.com/science/2015/jul/23/john-horton-conway-the-most-charismatic-mathematician-in-the-world) in 1968, out of a desire to create a demonstration of how simple rules might lead to complex behavior, much like how relatively simple physical processes generated all of earth's complicated biodiversity, at least in microcosmic sense.  For our purposes, it will yield a fun and interesting starting point for practicing some useful python skills prior to diving into some more mathematical topics.  \n",
    "\n",
    "The rules of the game are simple, and we'll develop them sequentially.  We begin by defining a rectangular board of cells, each of which can be either \"alive\" or \"dead\".  A good size to begin with is 10x10.  The best way to store this board is as a numpy array.  **Import numpy and create the board, with all positions initially set to \"dead\" (or false, as the case may be).**"
   ]
  },
  {
   "cell_type": "code",
   "execution_count": null,
   "id": "26973dde",
   "metadata": {},
   "outputs": [],
   "source": [
    "import numpy as np\n",
    "\n",
    "# Create a boolean numpy array to act as the board here, and initialize it to all false values.  You\n",
    "# may find the commands np.zeros and the array's astype method to be useful here"
   ]
  },
  {
   "cell_type": "markdown",
   "id": "b40d79b1",
   "metadata": {},
   "source": [
    "Now that we have the board, the next thing that we'll need to do is to define our initial configuration, or *state*.  While we will change this in the future, set a line of three adjacent cells either vertically or horizontally in the middle of the board.  You can use numpy's array indexing for this, e.g. if you wanted to initialize a 2x2 square with corner at position i=2,j=2, you could set S[2:4,2:4]=True, if S is the name of your board."
   ]
  },
  {
   "cell_type": "code",
   "execution_count": null,
   "id": "d1371a30",
   "metadata": {},
   "outputs": [],
   "source": []
  },
  {
   "cell_type": "markdown",
   "id": "86daa176",
   "metadata": {},
   "source": [
    "Now we get to the rules of the game.  Life is a dynamical system, which is to say that \n",
    "$$\n",
    "S_{t+1} = F(S_t)\n",
    "$$\n",
    "or the next board state is a function of the current board state, where $S_t$ is the board state at an integer \"time\" $t$.  The rules that define $F$ are simple, and here we'll just state them in words rather than in equations.\n",
    " - If a cell is currently alive, and it has two or three neighbors (out of eight possible) that are also alive, then it remains alive.\n",
    " - If a cell is dead, but has three neighbors (out of eight possible) that are alive, then it becomes alive.\n",
    " - All other cells become or remain dead.  \n",
    " \n",
    "It's also necessary to consider what happens at the edges of the domain.  You should use *periodic boundary conditions*, which is to say that if you are considering the neighbors of a cell that exists, for example on the right edge of the board, you would count its five neighboring cells on the rights side of the board, and also three cells on the left edge (and vice versa.  And analogously for the top and bottom).  **Create a python function that takes as an argument the existing board state and returns a new board state based on the rules described above.  Try to make this function as efficient as possible!** "
   ]
  },
  {
   "cell_type": "code",
   "execution_count": null,
   "id": "6ee00eef",
   "metadata": {},
   "outputs": [],
   "source": [
    "def update_board(S):\n",
    "    # Check which cells satisfy rule 1\n",
    "    # Check which cells satisfy rule 2\n",
    "    # Decide which cells are alive and dead based on rules\n",
    "    return S_new"
   ]
  },
  {
   "cell_type": "markdown",
   "id": "1e1f8e53",
   "metadata": {},
   "source": [
    "Do a basic test of your function to ensure correctness.  The reason that I asked you to create a line of three pixels is because the rules above lead to a very simple transformation: a vertical line becomes a horizontal line, and a horizontal line becomes a vertical line.  It will be helpful to visualize this.  **Use matplotlib to visualize your board state both before and after application of the update_board function.** "
   ]
  },
  {
   "cell_type": "code",
   "execution_count": null,
   "id": "ccac35ca",
   "metadata": {},
   "outputs": [],
   "source": [
    "import matplotlib.pyplot as plt\n",
    "\n",
    "# plt.imshow is a particularly useful command for this"
   ]
  },
  {
   "cell_type": "markdown",
   "id": "82b5d883",
   "metadata": {},
   "source": [
    "While this is interesting, the real fascinating dynamics of Conway's Game of Life emerge when the update_board function is iterated from time $t=0$ to $t=T$.  Write a for loop that performs this iteration and saves the output at each step to a list.  One common gotcha is that if you append your state array to a list, you may end up with $T$ references to the same array, which of course is being updated.  This is not what you want.  Be sure you save the board state at time $t$ by using a function such as np.copy prior to appending it.  Try running the code for 20 steps.  "
   ]
  },
  {
   "cell_type": "code",
   "execution_count": null,
   "id": "58ba289c",
   "metadata": {},
   "outputs": [],
   "source": []
  },
  {
   "cell_type": "markdown",
   "id": "7a0c3da4",
   "metadata": {},
   "source": [
    "It would be unwieldy to visualize each of the states of a time-evolving system individually.  A much more natural way of looking at them is to create an animation.  There are many ways to do this, but one nice way is to use the matplotlib FuncAnimation method.  All you need to do is to create an animate function, which takes as argument the frame number and updates a matplotlib plot.  Note that we need to put jupyter into matplotlib notebook mode to make this work (if we ran this code in a normal python interpreter, this wouldn't be required).  It's easier to show than to tell:"
   ]
  },
  {
   "cell_type": "code",
   "execution_count": null,
   "id": "3abaed7a",
   "metadata": {},
   "outputs": [],
   "source": [
    "import matplotlib.animation as anim\n",
    "%matplotlib notebook\n",
    "\n",
    "fig,ax = plt.subplots()\n",
    "fig.set_size_inches(10,10)\n",
    "\n",
    "im = ax.imshow(states[0])\n",
    "\n",
    "def animate(frame_number):\n",
    "    im.set_data(states[frame_number])\n",
    "    return im\n",
    "    \n",
    "animation = anim.FuncAnimation(fig, animate, frames=len(states), interval=100)"
   ]
  },
  {
   "cell_type": "markdown",
   "id": "4798f6df",
   "metadata": {},
   "source": [
    "Feel free to modify the parameters of the animate function, but if all has gone well, what you should be seeing is an oscilllating vertical and horizontal line of 3 pixels.  This isn't a very exciting result, but it should ensure that your code is running correctly. \n",
    "\n",
    "Now, let's do something more interesting.  Instead of a line, let's try as an initial state the R-pentomino, which would be\n",
    "![pentomino](pentomino.png)\n",
    "**Create a method that initializes the board state to one R-pentomino in the middle.  Rerun the above analysis and write a short qualitative characterization of the types of patterns that appear**.  If you wish, you can make the board larger, say size 100x100 and run the simulation for longer to get a better sense of the results.  "
   ]
  },
  {
   "cell_type": "code",
   "execution_count": null,
   "id": "6a1d92e9",
   "metadata": {},
   "outputs": [],
   "source": []
  },
  {
   "cell_type": "markdown",
   "id": "62f54341",
   "metadata": {},
   "source": [
    "An easy way to get a sense of the diversity generated by Life's rules is to begin with a random board state.  **Generate a board of size 100x100 with each pixel either alive or dead with 50% probability**.  (A useful function for doing this might be numpy.random.randint).  **Run the game for 1000 iterations.  Write a characterization of the types of patterns that appear.  As a guide, there is a common vernacular for characterizing these different patterns: still life (stable and non-changing patterns), oscillators (you've already seen one example with the horizontal/vertical line), and gliders.  Describe some pixel patterns that fall into each of these categories.**"
   ]
  },
  {
   "cell_type": "code",
   "execution_count": null,
   "id": "3674c2a1",
   "metadata": {},
   "outputs": [],
   "source": []
  },
  {
   "cell_type": "markdown",
   "id": "249777b4",
   "metadata": {},
   "source": [
    "Next, let's ask an analytical question: Given the randomized board state above, does the total number of live pixels ever stabilize?  Stated another way, if I ran the simulation above 100 times, and queried the number of live pixels on the board at $t=1000$, would they be similar each time?  **Devise a way to address this question.  Write a short statement with your conclusion, and generate one figure using matplotlib that supports your analysis**."
   ]
  },
  {
   "cell_type": "code",
   "execution_count": null,
   "id": "ce84a673",
   "metadata": {},
   "outputs": [],
   "source": []
  },
  {
   "cell_type": "markdown",
   "id": "b081d605",
   "metadata": {},
   "source": [
    "Finally, one aspect of Life that I find interesting is the fragility of the rule set.  **Make some simple modification to the rules.  Write a short statement describing what you changed and how it affected the dynamics of the system.**"
   ]
  },
  {
   "cell_type": "code",
   "execution_count": null,
   "id": "4f28f713",
   "metadata": {},
   "outputs": [],
   "source": []
  }
 ],
 "metadata": {
  "kernelspec": {
   "display_name": "Python 3 (ipykernel)",
   "language": "python",
   "name": "python3"
  },
  "language_info": {
   "codemirror_mode": {
    "name": "ipython",
    "version": 3
   },
   "file_extension": ".py",
   "mimetype": "text/x-python",
   "name": "python",
   "nbconvert_exporter": "python",
   "pygments_lexer": "ipython3",
   "version": "3.10.6"
  }
 },
 "nbformat": 4,
 "nbformat_minor": 5
}
